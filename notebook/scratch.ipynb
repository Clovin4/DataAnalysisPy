{
 "cells": [
  {
   "cell_type": "markdown",
   "metadata": {},
   "source": [
    " ## Problem 1\n",
    " What is the hexadecimal representation of each of the following unsigned binary numbers?\n",
    " (a) 1011 0110 1101 1011 \n",
    " Answer: B6DB\n",
    " (b) 1001 0011 1011 0110\n",
    " Answer: 43B6 \n",
    " (c) 0110 1101 0101 1111\n",
    " Answer: 6P5F \n",
    " (d) 1011 0100 1100 0100 \n",
    " Answer: B4C4\n"
   ]
  },
  {
   "cell_type": "markdown",
   "metadata": {},
   "source": [
    " ## Problem 2\n",
    " The following 16-bit hexadecimal numbers encode signed binary numbers. Convert each to decimal numbers. "
   ]
  },
  {
   "cell_type": "code",
   "execution_count": 9,
   "metadata": {},
   "outputs": [],
   "source": [
    "a = (13*16**3)+(1*16**2)+(3*16**1)+(5*16**0)\n",
    "b = (6*16**3)+(15*16**2)+(8*16**1)+(0*16**0)\n",
    "c = (14*16**3)+(4*16**2)+(12*16**1)+(2*16**0)\n",
    "d = (4*16**3)+(10*16**2)+(11*16**1)+(15*16**0)"
   ]
  },
  {
   "cell_type": "code",
   "execution_count": 10,
   "metadata": {},
   "outputs": [
    {
     "name": "stdout",
     "output_type": "stream",
     "text": [
      "a= 53557, b = 28544; c = 58562; d = 19135\n"
     ]
    }
   ],
   "source": [
    "print(f'a= {a}, b = {b}; c = {c}; d = {d}')"
   ]
  },
  {
   "cell_type": "markdown",
   "metadata": {},
   "source": [
    " ## Problem 3\n",
    " What is the decimal representation of each of the following signed binary numbers? \n",
    " (a) 11000001 \n",
    " (b) 10101000 \n",
    " (c) 01010100 \n",
    " (d) 11111101 \n"
   ]
  },
  {
   "cell_type": "code",
   "execution_count": 17,
   "metadata": {},
   "outputs": [],
   "source": [
    "a = -2**7 + 2**6 + 2**0\n",
    "b = -2**7 + 2**5 + 2**2\n",
    "c = 2**6 + 2**5 + 2**2\n",
    "d = -2**7 + 2**6 + 2**5 + 2**4 + 2**3 + 2**2 + 2**0"
   ]
  },
  {
   "cell_type": "code",
   "execution_count": 18,
   "metadata": {},
   "outputs": [
    {
     "name": "stdout",
     "output_type": "stream",
     "text": [
      "a= -63, b = -92; c = 100; d = -3\n"
     ]
    }
   ],
   "source": [
    "print(f'a= {a}, b = {b}; c = {c}; d = {d}')"
   ]
  },
  {
   "cell_type": "markdown",
   "metadata": {},
   "source": [
    " ## Problem 4\n",
    " Covert the decimal number 1087 to 16-bit binary number. Show the steps of your work explicitly. "
   ]
  },
  {
   "cell_type": "markdown",
   "metadata": {},
   "source": [
    " ## Problem 5\n",
    " What are the advantages of two’s complement system for signed numbers over other systems (e.g., sign-and-magnitude system)? Describe briefly."
   ]
  },
  {
   "cell_type": "code",
   "execution_count": null,
   "metadata": {},
   "outputs": [],
   "source": [
    " ## Problem 5"
   ]
  },
  {
   "cell_type": "code",
   "execution_count": 1,
   "metadata": {},
   "outputs": [],
   "source": [
    "students = [(\"Allen Anderson\", \"Computer Science\"),\n",
    "            (\"Edgar Einstein\", \"Engineering\"),\n",
    "            (\"Farrah Finn\", \"Fine Arts\")]\n",
    "     \n",
    "def add_new_student(students, name, major):\n",
    "    students.append((name, major))\n",
    "\n",
    "def update_student(students, index, name, major):\n",
    "    students[index] = (name, major)\n",
    "\n",
    "def find_students_by_name(students, name):\n",
    "    return [student for student in students if name in student[0]]\n",
    "\n",
    "def get_all_majors(students):\n",
    "    return [student[1] for student in students]"
   ]
  },
  {
   "cell_type": "code",
   "execution_count": 2,
   "metadata": {},
   "outputs": [
    {
     "data": {
      "text/plain": [
       "['Computer Science', 'Engineering', 'Fine Arts']"
      ]
     },
     "execution_count": 2,
     "metadata": {},
     "output_type": "execute_result"
    }
   ],
   "source": [
    "get_all_majors(students=students)"
   ]
  },
  {
   "cell_type": "code",
   "execution_count": 3,
   "metadata": {},
   "outputs": [
    {
     "data": {
      "text/plain": [
       "[('Edgar Einstein', 'Engineering'), ('Farrah Finn', 'Fine Arts')]"
      ]
     },
     "execution_count": 3,
     "metadata": {},
     "output_type": "execute_result"
    }
   ],
   "source": [
    "find_students_by_name(students,'in')"
   ]
  },
  {
   "cell_type": "code",
   "execution_count": 2,
   "metadata": {},
   "outputs": [],
   "source": [
    "set1 = set([1,2,3,4,5,6,7,9,10])\n",
    "set2 = set([9 , 8 , 6, 3, 2, 1])"
   ]
  },
  {
   "cell_type": "code",
   "execution_count": 4,
   "metadata": {},
   "outputs": [
    {
     "data": {
      "text/plain": [
       "{4, 5, 7, 10}"
      ]
     },
     "execution_count": 4,
     "metadata": {},
     "output_type": "execute_result"
    }
   ],
   "source": [
    "set1.difference(set2)"
   ]
  },
  {
   "cell_type": "code",
   "execution_count": null,
   "metadata": {},
   "outputs": [],
   "source": []
  }
 ],
 "metadata": {
  "interpreter": {
   "hash": "7f751efe82f8138f0e13b74d6bdf47db17884dc6e9e9967ab67813b42b2c11b2"
  },
  "kernelspec": {
   "display_name": "Python 3.9.12 ('base')",
   "language": "python",
   "name": "python3"
  },
  "language_info": {
   "codemirror_mode": {
    "name": "ipython",
    "version": 3
   },
   "file_extension": ".py",
   "mimetype": "text/x-python",
   "name": "python",
   "nbconvert_exporter": "python",
   "pygments_lexer": "ipython3",
   "version": "3.9.12"
  },
  "orig_nbformat": 4
 },
 "nbformat": 4,
 "nbformat_minor": 2
}
